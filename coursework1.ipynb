{
  "nbformat": 4,
  "nbformat_minor": 0,
  "metadata": {
    "colab": {
      "provenance": [],
      "authorship_tag": "ABX9TyNPpYVk5uyJO7JpN3lTVP/T"
    },
    "kernelspec": {
      "name": "python3",
      "display_name": "Python 3"
    },
    "language_info": {
      "name": "python"
    }
  },
  "cells": [
    {
      "cell_type": "markdown",
      "source": [
        "# Coursework 1"
      ],
      "metadata": {
        "id": "l1a5IoMT6U8r"
      }
    },
    {
      "cell_type": "markdown",
      "source": [
        "# Setup"
      ],
      "metadata": {
        "id": "x8rz7wix6ctA"
      }
    },
    {
      "cell_type": "markdown",
      "source": [
        "Install the UCI ML Repo package"
      ],
      "metadata": {
        "id": "plFp-ev6K06s"
      }
    },
    {
      "cell_type": "code",
      "source": [
        "pip install ucimlrepo"
      ],
      "metadata": {
        "colab": {
          "base_uri": "https://localhost:8080/"
        },
        "id": "w3hJvpWCPm0L",
        "outputId": "8950cda3-3651-45d8-c92d-7ba3a4b903e1"
      },
      "execution_count": 1,
      "outputs": [
        {
          "output_type": "stream",
          "name": "stdout",
          "text": [
            "Collecting ucimlrepo\n",
            "  Downloading ucimlrepo-0.0.7-py3-none-any.whl.metadata (5.5 kB)\n",
            "Requirement already satisfied: pandas>=1.0.0 in /usr/local/lib/python3.11/dist-packages (from ucimlrepo) (2.2.2)\n",
            "Requirement already satisfied: certifi>=2020.12.5 in /usr/local/lib/python3.11/dist-packages (from ucimlrepo) (2025.1.31)\n",
            "Requirement already satisfied: numpy>=1.23.2 in /usr/local/lib/python3.11/dist-packages (from pandas>=1.0.0->ucimlrepo) (2.0.2)\n",
            "Requirement already satisfied: python-dateutil>=2.8.2 in /usr/local/lib/python3.11/dist-packages (from pandas>=1.0.0->ucimlrepo) (2.8.2)\n",
            "Requirement already satisfied: pytz>=2020.1 in /usr/local/lib/python3.11/dist-packages (from pandas>=1.0.0->ucimlrepo) (2025.2)\n",
            "Requirement already satisfied: tzdata>=2022.7 in /usr/local/lib/python3.11/dist-packages (from pandas>=1.0.0->ucimlrepo) (2025.2)\n",
            "Requirement already satisfied: six>=1.5 in /usr/local/lib/python3.11/dist-packages (from python-dateutil>=2.8.2->pandas>=1.0.0->ucimlrepo) (1.17.0)\n",
            "Downloading ucimlrepo-0.0.7-py3-none-any.whl (8.0 kB)\n",
            "Installing collected packages: ucimlrepo\n",
            "Successfully installed ucimlrepo-0.0.7\n"
          ]
        }
      ]
    },
    {
      "cell_type": "markdown",
      "source": [
        "Ensure Python is up to date and import the required modules"
      ],
      "metadata": {
        "id": "pNkKfPTs3BvI"
      }
    },
    {
      "cell_type": "code",
      "source": [
        "# Python ≥3.5 is required\n",
        "import sys\n",
        "assert sys.version_info >= (3, 5)\n",
        "\n",
        "# Scikit-Learn ≥1 is required\n",
        "import sklearn\n",
        "assert sklearn.__version__ >= \"1.0\"\n",
        "\n",
        "# Common imports\n",
        "import numpy as np\n",
        "import pandas as pd\n",
        "import os\n",
        "\n",
        "# Import UCI fetch repo module\n",
        "from ucimlrepo import fetch_ucirepo"
      ],
      "metadata": {
        "id": "7pqTEHHF6KVw"
      },
      "execution_count": 2,
      "outputs": []
    },
    {
      "cell_type": "markdown",
      "source": [
        "# Import dataset"
      ],
      "metadata": {
        "id": "1IB4e2cv6fYp"
      }
    },
    {
      "cell_type": "markdown",
      "source": [
        "Try to import the data from the UCI repository, if it's down use the local backup CSV file"
      ],
      "metadata": {
        "id": "o_ifh5ZEHnmz"
      }
    },
    {
      "cell_type": "code",
      "source": [
        "try:\n",
        "  infrared_thermography_temperature = fetch_ucirepo(id=925)\n",
        "\n",
        "  # data (as pandas dataframes)\n",
        "  features = infrared_thermography_temperature.data.features\n",
        "  targets = infrared_thermography_temperature.data.targets\n",
        "\n",
        "  # metadata\n",
        "  print(infrared_thermography_temperature.metadata)\n",
        "\n",
        "  # variable information\n",
        "  print(infrared_thermography_temperature.variables)\n",
        "except:\n",
        "  print(\"Repo down, using backup CSV file\")\n",
        "\n",
        "  # Import the CSV file\n",
        "  data =\n",
        "\n",
        "  # Extract features and targets from the data\n",
        "  features = data.drop(columns=['aveOralF', 'aveOralM'])\n",
        "  targets = data[['aveOralF', 'aveOralM']]\n",
        "\n",
        "print(\"Features\")\n",
        "print(features.head())\n",
        "\n",
        "print(\"Targets\")\n",
        "print(targets.head())"
      ],
      "metadata": {
        "colab": {
          "base_uri": "https://localhost:8080/",
          "height": 108
        },
        "id": "CIxUzo766jea",
        "outputId": "9bc42841-d846-4871-b3eb-fc2d61f35b85"
      },
      "execution_count": 3,
      "outputs": [
        {
          "output_type": "error",
          "ename": "SyntaxError",
          "evalue": "invalid syntax (<ipython-input-3-d57c9c6aa0a1>, line 17)",
          "traceback": [
            "\u001b[0;36m  File \u001b[0;32m\"<ipython-input-3-d57c9c6aa0a1>\"\u001b[0;36m, line \u001b[0;32m17\u001b[0m\n\u001b[0;31m    data =\u001b[0m\n\u001b[0m          ^\u001b[0m\n\u001b[0;31mSyntaxError\u001b[0m\u001b[0;31m:\u001b[0m invalid syntax\n"
          ]
        }
      ]
    },
    {
      "cell_type": "markdown",
      "source": [
        "From this table we can see that the categorical columns are: Gender, Age and Ethnicity"
      ],
      "metadata": {
        "id": "sIjELb5r8usA"
      }
    },
    {
      "cell_type": "markdown",
      "source": [
        "# Data Cleaning\n"
      ],
      "metadata": {
        "id": "HnHDZRt0AyI-"
      }
    },
    {
      "cell_type": "code",
      "source": [
        "print(features.info())"
      ],
      "metadata": {
        "id": "jrhrs4iCAz34"
      },
      "execution_count": null,
      "outputs": []
    },
    {
      "cell_type": "code",
      "source": [
        "features.describe()"
      ],
      "metadata": {
        "id": "3vnQe9X-BOfk"
      },
      "execution_count": null,
      "outputs": []
    },
    {
      "cell_type": "code",
      "source": [
        "print(targets.info())"
      ],
      "metadata": {
        "id": "Bsab6CE1Bb9T"
      },
      "execution_count": null,
      "outputs": []
    },
    {
      "cell_type": "code",
      "source": [
        "targets.describe()"
      ],
      "metadata": {
        "id": "GoeJ9K1vBeXa"
      },
      "execution_count": null,
      "outputs": []
    },
    {
      "cell_type": "markdown",
      "source": [
        "List how many empty values each column has"
      ],
      "metadata": {
        "id": "6-Aq1ZDJ9PVW"
      }
    },
    {
      "cell_type": "code",
      "source": [
        "print(features.isnull().sum())"
      ],
      "metadata": {
        "id": "wiMhqv1NPQjr"
      },
      "execution_count": null,
      "outputs": []
    },
    {
      "cell_type": "code",
      "source": [
        "# Create a boolean mask indicating rows with nulls in the specified columns\n",
        "mask = features['Distance'].isnull()\n",
        "# Use splicing to select rows where the mask is False (no nulls)\n",
        "features = features[~mask]"
      ],
      "metadata": {
        "id": "uAO6wFTfDd-B"
      },
      "execution_count": null,
      "outputs": []
    },
    {
      "cell_type": "code",
      "source": [
        "print(features.isnull().sum())"
      ],
      "metadata": {
        "id": "mldTlWhgDe-E"
      },
      "execution_count": null,
      "outputs": []
    },
    {
      "cell_type": "markdown",
      "source": [
        "#Handling categories"
      ],
      "metadata": {
        "id": "NnSdBlNr4egl"
      }
    },
    {
      "cell_type": "markdown",
      "source": [
        "We know from when we imported the data, that the only categories are Gender, Age and Ethnicity"
      ],
      "metadata": {
        "id": "XZGUBsqVBRHZ"
      }
    },
    {
      "cell_type": "code",
      "source": [
        "#Import One hot encoder\n",
        "from sklearn.preprocessing import OneHotEncoder\n",
        "\n",
        "categories = features[['Gender', 'Age', 'Ethnicity']]\n",
        "\n",
        "cat_encoder = OneHotEncoder()\n",
        "feature_arr = cat_encoder.fit_transform(categories)\n",
        "feature_arr.toarray()"
      ],
      "metadata": {
        "id": "LEgCcfn74k7R"
      },
      "execution_count": null,
      "outputs": []
    },
    {
      "cell_type": "markdown",
      "source": [
        "One-hot encoding assigns each possible variable for each variable a column. So instead of"
      ],
      "metadata": {
        "id": "oEpFJXkHBqn7"
      }
    },
    {
      "cell_type": "markdown",
      "source": [
        "#Transformation Pipelines\n"
      ],
      "metadata": {
        "id": "5jRYS46Dy5Se"
      }
    },
    {
      "cell_type": "code",
      "source": [
        "from sklearn.pipeline import Pipeline\n",
        "from sklearn.preprocessing import StandardScaler\n",
        "\n",
        "num_pipeline = Pipeline([\n",
        "        ('imputer', SimpleImputer(strategy=\"median\")),\n",
        "        ('attribs_adder', CombinedAttributesAdder()),\n",
        "        ('std_scaler', StandardScaler()),\n",
        "    ])\n",
        "\n",
        "housing_num_tr = num_pipeline.fit_transform(housing_num)"
      ],
      "metadata": {
        "id": "Nfmt7oZ0DuLz"
      },
      "execution_count": null,
      "outputs": []
    },
    {
      "cell_type": "markdown",
      "source": [
        "Take this assignment, and give me code for Linear Regression, Polynomial Regression (degree = 2, 3, 4) and Neural Network (basic). Also implement a basic logistic regression."
      ],
      "metadata": {
        "id": "tWD0qpeEDubc"
      }
    }
  ]
}